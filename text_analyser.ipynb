{
 "cells": [
  {
   "cell_type": "markdown",
   "metadata": {},
   "source": [
    "Crie um programa que analise um texto fornecido pelo usuário. O programa deve contar o número de palavras (independentemente se há repetição ou não), a quantidade de cada palavra e a quantidade de cada letra. Ignore maiúsculas e minúsculas ao contar letras (ou seja, transforme tudo para minúsculas). Faça o devido tratamento para pontuação e espaços ao contar palavras.\n",
    "\n",
    "O programa deve conter uma função chamada `analisar_texto` que recebe o texto como parâmetro e retorna a contagem de palavras, a frequência de palavras e a frequência de letras. A função deve ser devidamente documentada.\n",
    "\n",
    "Para o texto \"Olá mundo! Este é um teste. Olá novamente.\" o programa deve imprimir:\n",
    "\n",
    "```\n",
    "Contagem de palavras: 8\n",
    "Frequência de palavras: Counter({'Olá': 2, 'mundo': 1, 'Este': 1, 'é': 1, 'um': 1, 'teste': 1, 'novamente': 1})\n",
    "Frequência de letras: Counter({' ': 7, 'e': 6, 'o': 4, 't': 4, 'm': 3, 'n': 3, 'l': 2, 'á': 2, 'u': 2, 's': 2, 'd': 1, 'é': 1, 'v': 1, 'a': 1})\n",
    "```\n",
    "\n",
    "Dica: use o módulo `string` para obter uma lista de caracteres de pontuação. Exemplo:\n",
    "\n",
    "```python\n",
    "import string\n",
    "print(string.punctuation)\n",
    "```\n",
    "\n",
    "Dica: use o módulo `collections` para obter um contador de palavras e letras. Exemplo:\n",
    "\n",
    "```python\n",
    "from collections import Counter\n",
    "print(Counter(['a', 'b', 'a', 'c', 'b', 'a']))\n",
    "print(Counter('abacba'))\n",
    "``` "
   ]
  },
  {
   "cell_type": "code",
   "execution_count": 7,
   "metadata": {},
   "outputs": [
    {
     "name": "stdout",
     "output_type": "stream",
     "text": [
      "!\"#$%&'()*+,-./:;<=>?@[\\]^_`{|}~\n",
      "0123456789\n",
      "Counter({'a': 3, 'b': 2, 'c': 1})\n",
      "Counter({'a': 3, 'b': 2, 'c': 1})\n"
     ]
    }
   ],
   "source": [
    "# Importando módulos\n",
    "import string\n",
    "from collections import Counter\n",
    "\n",
    "print(string.punctuation)\n",
    "print(string.digits)\n",
    "\n",
    "# A função Counter consegue contar a quantidade de vezes que uma letra aparece, independente do tipo do objeto\n",
    "print(Counter(['a', 'b', 'a', 'c', 'b', 'a']))\n",
    "print(Counter('abacba'))"
   ]
  },
  {
   "cell_type": "code",
   "execution_count": 10,
   "metadata": {},
   "outputs": [
    {
     "name": "stdout",
     "output_type": "stream",
     "text": [
      "Contagem de palavras: 8\n",
      "Contagem de palavras: Counter({'Olá': 2, 'mundo!': 1, 'Este': 1, 'é': 1, 'um': 1, 'teste.': 1, 'novamente.': 1})\n",
      "Contagem de palavras: Counter({' ': 7, 'e': 5, 't': 4, 'm': 3, 'n': 3, 'O': 2, 'l': 2, 'á': 2, 'u': 2, 'o': 2, 's': 2, '.': 2, 'd': 1, '!': 1, 'E': 1, 'é': 1, 'v': 1, 'a': 1})\n"
     ]
    }
   ],
   "source": [
    "# Solução simples\n",
    "\n",
    "def analisar_texto(texto):\n",
    "    #Lower Case\n",
    "    texto = texto.lowercase()\n",
    "    \n",
    "    # Separando o texto\n",
    "    palavras = texto.split()\n",
    "    \n",
    "    #Contando\n",
    "    contagem_palavras = len(palavras)\n",
    "    freq_palavras = Counter(palavras)\n",
    "    freq_letras = Counter(texto)\n",
    "    return contagem_palavras, freq_palavras, freq_letras\n",
    "\n",
    "texto = \"Olá mundo! Este é um teste. Olá novamente.\"\n",
    "\n",
    "contagem_palavras, freq_palavras, freq_letras = analisar_texto(texto)\n",
    "\n",
    "print(f\"Contagem de palavras: {contagem_palavras}\")    \n",
    "print(f\"Contagem de palavras: {freq_palavras}\")\n",
    "print(f\"Contagem de palavras: {freq_letras}\")"
   ]
  },
  {
   "cell_type": "code",
   "execution_count": 12,
   "metadata": {},
   "outputs": [
    {
     "name": "stdout",
     "output_type": "stream",
     "text": [
      "Contagem de palavras: 8\n",
      "Contagem de palavras: Counter({'olá': 2, 'mundo': 1, 'este': 1, 'é': 1, 'um': 1, 'teste': 1, 'novamente': 1})\n",
      "Contagem de palavras: Counter({' ': 7, 'e': 6, 'o': 4, 't': 4, 'm': 3, 'n': 3, 'l': 2, 'á': 2, 'u': 2, 's': 2, 'd': 1, 'é': 1, 'v': 1, 'a': 1})\n"
     ]
    }
   ],
   "source": [
    "# Solução \"Menos\" Simples\n",
    "\n",
    "def analisar_texto(texto):\n",
    "    \"\"\"\n",
    "    Analisa o texto fornecido e calcula a contagem de palavras, a frequencia de palavras, e a frequencia de letras. \n",
    "    \n",
    "    Parameters\n",
    "    -------------\n",
    "    texto: str\n",
    "        Texto a ser analisado.\n",
    "        \n",
    "    Returns\n",
    "    -------------\n",
    "    tuple\n",
    "        contagem de palavras, frequencia de palavras, frequencia de letras\n",
    "    \"\"\"\n",
    "    #Tratamento\n",
    "    tratamento = str.maketrans(\"\", \"\", string.punctuation) # str.maketrans(elemento_substituir1, elemento_substituir2, elem. a remover)\n",
    "    texto_tratado = texto.translate(tratamento)\n",
    "    \n",
    "    #Lower Case\n",
    "    texto = texto_tratado.lower()\n",
    "    \n",
    "    # Separando o texto\n",
    "    palavras = texto.split()\n",
    "    \n",
    "    #Contando\n",
    "    contagem_palavras = len(palavras)\n",
    "    freq_palavras = Counter(palavras)\n",
    "    freq_letras = Counter(texto)\n",
    "    return contagem_palavras, freq_palavras, freq_letras\n",
    "\n",
    "texto = \"Olá mundo! Este é um teste. Olá novamente.\"\n",
    "\n",
    "contagem_palavras, freq_palavras, freq_letras = analisar_texto(texto)\n",
    "\n",
    "print(f\"Contagem de palavras: {contagem_palavras}\")    \n",
    "print(f\"Contagem de palavras: {freq_palavras}\")\n",
    "print(f\"Contagem de palavras: {freq_letras}\")"
   ]
  }
 ],
 "metadata": {
  "kernelspec": {
   "display_name": "Python 3",
   "language": "python",
   "name": "python3"
  },
  "language_info": {
   "codemirror_mode": {
    "name": "ipython",
    "version": 3
   },
   "file_extension": ".py",
   "mimetype": "text/x-python",
   "name": "python",
   "nbconvert_exporter": "python",
   "pygments_lexer": "ipython3",
   "version": "3.7.3"
  }
 },
 "nbformat": 4,
 "nbformat_minor": 5
}
